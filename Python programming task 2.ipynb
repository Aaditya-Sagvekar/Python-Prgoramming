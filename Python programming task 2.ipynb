{
 "cells": [
  {
   "cell_type": "code",
   "execution_count": 1,
   "id": "60bb6f8d-ac84-49e6-ab86-62be84f5fbef",
   "metadata": {},
   "outputs": [],
   "source": [
    "prices={\"Toyota\":180,\"Suzuki\":140,\"Tesla\":250}\n",
    "shares={\"Toyota\":5,\"Suzuki\":2,\"Tesla\":3}"
   ]
  },
  {
   "cell_type": "code",
   "execution_count": 2,
   "id": "b4778133-1446-4d3c-8e21-2892eac5f96b",
   "metadata": {},
   "outputs": [
    {
     "name": "stdout",
     "output_type": "stream",
     "text": [
      "total investment: 1930\n"
     ]
    }
   ],
   "source": [
    "total=0\n",
    "for stock in shares:\n",
    "    total += prices[stock] * shares[stock]\n",
    "print(\"total investment:\",total)    "
   ]
  },
  {
   "cell_type": "code",
   "execution_count": null,
   "id": "e4f13969-0be5-4d8a-ad43-69899163ac2c",
   "metadata": {},
   "outputs": [],
   "source": []
  }
 ],
 "metadata": {
  "kernelspec": {
   "display_name": "Python 3 (ipykernel)",
   "language": "python",
   "name": "python3"
  },
  "language_info": {
   "codemirror_mode": {
    "name": "ipython",
    "version": 3
   },
   "file_extension": ".py",
   "mimetype": "text/x-python",
   "name": "python",
   "nbconvert_exporter": "python",
   "pygments_lexer": "ipython3",
   "version": "3.12.4"
  }
 },
 "nbformat": 4,
 "nbformat_minor": 5
}
