{
 "cells": [
  {
   "cell_type": "code",
   "execution_count": null,
   "id": "686daf6d-44f9-4dc9-b350-1321026ed088",
   "metadata": {},
   "outputs": [
    {
     "name": "stdin",
     "output_type": "stream",
     "text": [
      "enter your command: hello\n"
     ]
    },
    {
     "name": "stdout",
     "output_type": "stream",
     "text": [
      "chatbot:hi\n"
     ]
    },
    {
     "name": "stdin",
     "output_type": "stream",
     "text": [
      "enter your command: how are you\n"
     ]
    },
    {
     "name": "stdout",
     "output_type": "stream",
     "text": [
      "chatbot:I'm fine\n"
     ]
    },
    {
     "name": "stdin",
     "output_type": "stream",
     "text": [
      "enter your command: bye\n"
     ]
    },
    {
     "name": "stdout",
     "output_type": "stream",
     "text": [
      "chatbot:goodbye\n"
     ]
    },
    {
     "name": "stdin",
     "output_type": "stream",
     "text": [
      "enter your command: h\n"
     ]
    },
    {
     "name": "stdout",
     "output_type": "stream",
     "text": [
      "chatbot:I don't understand\n"
     ]
    }
   ],
   "source": [
    "def chatbot():\n",
    "    while True:\n",
    "        user=input(\"enter your command:\")\n",
    "        if user==\"hello\":\n",
    "            print(\"chatbot:hi\")\n",
    "        elif user==\"how are you\":\n",
    "            print(\"chatbot:I'm fine\")\n",
    "        elif user==\"bye\":    \n",
    "            print(\"chatbot:goodbye\")\n",
    "        else:\n",
    "            print(\"chatbot:I don't understand\")\n",
    "chatbot()"
   ]
  }
 ],
 "metadata": {
  "kernelspec": {
   "display_name": "Python 3 (ipykernel)",
   "language": "python",
   "name": "python3"
  },
  "language_info": {
   "codemirror_mode": {
    "name": "ipython",
    "version": 3
   },
   "file_extension": ".py",
   "mimetype": "text/x-python",
   "name": "python",
   "nbconvert_exporter": "python",
   "pygments_lexer": "ipython3",
   "version": "3.12.4"
  }
 },
 "nbformat": 4,
 "nbformat_minor": 5
}
